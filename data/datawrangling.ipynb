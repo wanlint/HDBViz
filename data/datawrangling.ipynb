{
 "cells": [
  {
   "cell_type": "markdown",
   "metadata": {},
   "source": [
    "# Geocoding HDB Property Info Dataset using OneMap API"
   ]
  },
  {
   "cell_type": "code",
   "execution_count": null,
   "metadata": {},
   "outputs": [
    {
     "name": "stdout",
     "output_type": "stream",
     "text": [
      "Defaulting to user installation because normal site-packages is not writeable\n",
      "Collecting geopandas\n",
      "  Using cached geopandas-1.0.1-py3-none-any.whl.metadata (2.2 kB)\n",
      "Requirement already satisfied: numpy>=1.22 in /Users/wanlin/Library/Python/3.9/lib/python/site-packages (from geopandas) (1.26.1)\n",
      "Collecting pyogrio>=0.7.2 (from geopandas)\n",
      "  Downloading pyogrio-0.10.0-cp39-cp39-macosx_12_0_x86_64.whl.metadata (5.5 kB)\n",
      "Requirement already satisfied: packaging in /Users/wanlin/Library/Python/3.9/lib/python/site-packages (from geopandas) (23.1)\n",
      "Requirement already satisfied: pandas>=1.4.0 in /Users/wanlin/Library/Python/3.9/lib/python/site-packages (from geopandas) (1.4.3)\n",
      "Collecting pyproj>=3.3.0 (from geopandas)\n",
      "  Downloading pyproj-3.6.1-cp39-cp39-macosx_10_9_x86_64.whl.metadata (31 kB)\n",
      "Collecting shapely>=2.0.0 (from geopandas)\n",
      "  Downloading shapely-2.0.7-cp39-cp39-macosx_10_9_x86_64.whl.metadata (6.8 kB)\n",
      "Requirement already satisfied: python-dateutil>=2.8.1 in /Users/wanlin/Library/Python/3.9/lib/python/site-packages (from pandas>=1.4.0->geopandas) (2.8.2)\n",
      "Requirement already satisfied: pytz>=2020.1 in /Users/wanlin/Library/Python/3.9/lib/python/site-packages (from pandas>=1.4.0->geopandas) (2023.3.post1)\n",
      "Requirement already satisfied: certifi in /Users/wanlin/Library/Python/3.9/lib/python/site-packages (from pyogrio>=0.7.2->geopandas) (2022.12.7)\n",
      "Requirement already satisfied: six>=1.5 in /Users/wanlin/Library/Python/3.9/lib/python/site-packages (from python-dateutil>=2.8.1->pandas>=1.4.0->geopandas) (1.16.0)\n",
      "Downloading geopandas-1.0.1-py3-none-any.whl (323 kB)\n",
      "\u001b[2K   \u001b[90m━━━━━━━━━━━━━━━━━━━━━━━━━━━━━━━━━━━━━━━━\u001b[0m \u001b[32m323.6/323.6 kB\u001b[0m \u001b[31m7.4 MB/s\u001b[0m eta \u001b[36m0:00:00\u001b[0m:00:01\u001b[0m\n",
      "\u001b[?25hDownloading pyogrio-0.10.0-cp39-cp39-macosx_12_0_x86_64.whl (16.5 MB)\n",
      "\u001b[2K   \u001b[90m━━━━━━━━━━━━━━━━━━━━━━━━━━━━━━━━━━━━━━━━\u001b[0m \u001b[32m16.5/16.5 MB\u001b[0m \u001b[31m21.6 MB/s\u001b[0m eta \u001b[36m0:00:00\u001b[0m00:01\u001b[0m00:01\u001b[0m\n",
      "\u001b[?25hDownloading pyproj-3.6.1-cp39-cp39-macosx_10_9_x86_64.whl (6.1 MB)\n",
      "\u001b[2K   \u001b[90m━━━━━━━━━━━━━━━━━━━━━━━━━━━━━━━━━━━━━━━━\u001b[0m \u001b[32m6.1/6.1 MB\u001b[0m \u001b[31m49.8 MB/s\u001b[0m eta \u001b[36m0:00:00\u001b[0m00:01\u001b[0m00:01\u001b[0m\n",
      "\u001b[?25hDownloading shapely-2.0.7-cp39-cp39-macosx_10_9_x86_64.whl (1.5 MB)\n",
      "\u001b[2K   \u001b[90m━━━━━━━━━━━━━━━━━━━━━━━━━━━━━━━━━━━━━━━━\u001b[0m \u001b[32m1.5/1.5 MB\u001b[0m \u001b[31m29.9 MB/s\u001b[0m eta \u001b[36m0:00:00\u001b[0m00:01\u001b[0m\n",
      "\u001b[?25hInstalling collected packages: shapely, pyproj, pyogrio, geopandas\n",
      "Successfully installed geopandas-1.0.1 pyogrio-0.10.0 pyproj-3.6.1 shapely-2.0.7\n",
      "\n",
      "\u001b[1m[\u001b[0m\u001b[34;49mnotice\u001b[0m\u001b[1;39;49m]\u001b[0m\u001b[39;49m A new release of pip is available: \u001b[0m\u001b[31;49m23.3\u001b[0m\u001b[39;49m -> \u001b[0m\u001b[32;49m25.0.1\u001b[0m\n",
      "\u001b[1m[\u001b[0m\u001b[34;49mnotice\u001b[0m\u001b[1;39;49m]\u001b[0m\u001b[39;49m To update, run: \u001b[0m\u001b[32;49m/Library/Developer/CommandLineTools/usr/bin/python3 -m pip install --upgrade pip\u001b[0m\n"
     ]
    }
   ],
   "source": [
    "# !pip install requests time pandas tqdm geopandas"
   ]
  },
  {
   "cell_type": "code",
   "execution_count": 3,
   "metadata": {},
   "outputs": [
    {
     "name": "stderr",
     "output_type": "stream",
     "text": [
      "/Users/wanlin/Library/Python/3.9/lib/python/site-packages/tqdm/auto.py:21: TqdmWarning: IProgress not found. Please update jupyter and ipywidgets. See https://ipywidgets.readthedocs.io/en/stable/user_install.html\n",
      "  from .autonotebook import tqdm as notebook_tqdm\n"
     ]
    }
   ],
   "source": [
    "#Import necessary libraries\n",
    "import requests\n",
    "import time\n",
    "import pandas as pd\n",
    "from tqdm.auto import tqdm\n",
    "tqdm.pandas()"
   ]
  },
  {
   "cell_type": "markdown",
   "metadata": {},
   "source": [
    "# Generating HDB Coordinates"
   ]
  },
  {
   "cell_type": "code",
   "execution_count": null,
   "metadata": {},
   "outputs": [],
   "source": [
    "#Define functions for API calling and geocoding\n",
    "def call_loop(url_given, attempts=3, delay=5):\n",
    "    \"\"\"\n",
    "    Call the given URL with retries if response status is not 200.\n",
    "    \"\"\"\n",
    "    response_status_code = 1\n",
    "    for _ in range(attempts + 1):\n",
    "        if response_status_code != 200:\n",
    "            if response_status_code != 1:\n",
    "                time.sleep(delay)\n",
    "            response = requests.get(url_given)\n",
    "            response_status_code = response.status_code\n",
    "        else:\n",
    "            return response\n",
    "    print(f\"For URL: {url_given}\")\n",
    "    print(f\"Response Status Code: {response_status_code}\")\n",
    "    return None\n",
    "\n",
    "def collect_results(full_add, attempts=3, delay=5):\n",
    "    \"\"\"\n",
    "    Collects all the result from OneMap API into a list of dictionaries.\n",
    "    Uses the full address (with spaces replaced by '+') to form the URL.\n",
    "    \"\"\"\n",
    "    url_p1 = \"https://www.onemap.gov.sg/api/common/elastic/search?searchVal=+\"\n",
    "    url_p2 = \"+&returnGeom=Y&getAddrDetails=Y\"\n",
    "    final_url = url_p1 + full_add + url_p2\n",
    "    \n",
    "    results = []\n",
    "    response = call_loop(final_url, attempts, delay)\n",
    "    if response is not None:\n",
    "        # Using response.json() is safer than eval(response.text)\n",
    "        feedback = response.json()\n",
    "        found = feedback.get('found', 0)\n",
    "        totalpages = feedback.get('totalNumPages', 1)\n",
    "    else:\n",
    "        print(f\"Exited collect_results function as there is no response for address: {full_add}\")\n",
    "        return results  # Returns empty list\n",
    "    \n",
    "    if found == 0:\n",
    "        print(f\"No results found for address: {full_add}\")\n",
    "        return results  # No results found\n",
    "    else:\n",
    "        results = feedback.get('results', [])\n",
    "        # If there are multiple pages, get additional results\n",
    "        if found > 1 and totalpages > 1:\n",
    "            for x in range(totalpages - 1):\n",
    "                page_num = x + 2\n",
    "                url_with_page = final_url + f\"&pageNum={page_num}\"\n",
    "                temp_response = call_loop(url_with_page, attempts, delay)\n",
    "                if temp_response is not None:\n",
    "                    temp_feedback = temp_response.json()\n",
    "                    temp_results = temp_feedback.get('results', [])\n",
    "                    results.extend(temp_results)\n",
    "    return results\n",
    "\n",
    "def get_geocode_info(row):\n",
    "    \"\"\"\n",
    "    Constructs a full address from the row and uses OneMap API to retrieve\n",
    "    postal code and coordinates.\n",
    "    \"\"\"\n",
    "    # Construct the full address using block and street_name.\n",
    "    # (You can modify this if you need to include town or other parts.)\n",
    "    full_address = f\"{row['block']} {row['street_name']}\"\n",
    "    # Replace spaces with '+' for URL encoding\n",
    "    full_address_encoded = full_address.replace(\" \", \"+\")\n",
    "    \n",
    "    results = collect_results(full_address_encoded)\n",
    "    if results:\n",
    "        # Choose the first result (assumed best match)\n",
    "        res = results[0]\n",
    "        # Extract postal code and coordinates (keys may be \"POSTAL\", \"X\", \"Y\")\n",
    "        postal_code = res.get(\"POSTAL\", \"\")\n",
    "        longitude = res.get(\"LONGITUDE\", \"\")\n",
    "        latitude = res.get(\"LATITUDE\", \"\")\n",
    "        return pd.Series([postal_code, longitude, latitude])\n",
    "    else:\n",
    "        # No geocoding result found; return empty values.\n",
    "        return pd.Series([\"\", \"\", \"\"])"
   ]
  },
  {
   "cell_type": "code",
   "execution_count": null,
   "metadata": {},
   "outputs": [
    {
     "name": "stderr",
     "output_type": "stream",
     "text": [
      "100%|██████████| 199327/199327 [6:54:42<00:00,  8.01it/s]    \n"
     ]
    },
    {
     "name": "stdout",
     "output_type": "stream",
     "text": [
      "Geocoding complete. Results saved to geocoded.csv\n"
     ]
    }
   ],
   "source": [
    "df = pd.read_csv('raw.csv')\n",
    "# Apply the geocoding function to each row and save the results\n",
    "df[['postal_code', 'longitude', 'latitude']] = df.progress_apply(get_geocode_info, axis=1)\n",
    "df.to_csv('geocoded.csv', index=False)\n",
    "print(\"Geocoding complete. Results saved to geocoded.csv\")\n"
   ]
  },
  {
   "cell_type": "markdown",
   "metadata": {},
   "source": [
    "# Generating Hawker Coordinates"
   ]
  },
  {
   "cell_type": "code",
   "execution_count": 48,
   "metadata": {},
   "outputs": [],
   "source": [
    "def get_geocode_info_hawker(row):\n",
    "    \"\"\"\n",
    "    Constructs a full address from the row and uses OneMap API to retrieve\n",
    "    postal code and coordinates.\n",
    "    \"\"\"\n",
    "    # delete everything after the last comma of the location_of_centre. there could be multiple commas in the address\n",
    "    location_of_centre = row['location_of_centre']\n",
    "    location_of_centre = location_of_centre.rsplit(',', 1)[0]\n",
    "\n",
    "    # remove the leading letters 'Blk' if they exist\n",
    "    location_of_centre = location_of_centre.replace('Blk', '')\n",
    "    location_of_centre = location_of_centre.strip()\n",
    "    \n",
    "    # Replace spaces with '+' for URL encoding\n",
    "    full_address_encoded = location_of_centre.replace(\" \", \"+\")\n",
    "    # print(full_address_encoded)\n",
    "    results = collect_results(full_address_encoded)\n",
    "    if results:\n",
    "        # Choose the first result (assumed best match)\n",
    "        res = results[0]\n",
    "        # Extract postal code and coordinates (keys may be \"POSTAL\", \"X\", \"Y\")\n",
    "        postal_code = res.get(\"POSTAL\", \"\")\n",
    "        longitude = res.get(\"LONGITUDE\", \"\")\n",
    "        latitude = res.get(\"LATITUDE\", \"\")\n",
    "        return pd.Series([postal_code, longitude, latitude])\n",
    "    else:\n",
    "        # No geocoding result found; return empty values.\n",
    "        return pd.Series([\"\", \"\", \"\"])\n"
   ]
  },
  {
   "cell_type": "code",
   "execution_count": 49,
   "metadata": {},
   "outputs": [
    {
     "name": "stderr",
     "output_type": "stream",
     "text": [
      "100%|██████████| 107/107 [11:52<00:00,  6.66s/it]\n"
     ]
    },
    {
     "name": "stdout",
     "output_type": "stream",
     "text": [
      "Geocoding complete. Results saved to hawker_geocoded.csv\n"
     ]
    }
   ],
   "source": [
    "# # Apply the geocoding function to each row and save the results\n",
    "# df[['postal_code', 'longitude', 'latitude']] = df.progress_apply(get_geocode_info, axis=1)\n",
    "# df.to_csv('test_out.csv', index=False)\n",
    "# print(\"Geocoding complete. Results saved to geocoded.csv\")\n",
    "\n",
    "hawker_df = pd.read_csv('ListofGovernmentMarketsHawkerCentres.csv')\n",
    "hawker_df[['postal_code', 'longitude', 'latitude']] = hawker_df.progress_apply(get_geocode_info_hawker, axis=1)\n",
    "hawker_df.to_csv('hawker_geocoded.csv', index=False)\n",
    "print(\"Geocoding complete. Results saved to hawker_geocoded.csv\")"
   ]
  },
  {
   "cell_type": "markdown",
   "metadata": {},
   "source": [
    "# Generating School Coordinates"
   ]
  },
  {
   "cell_type": "code",
   "execution_count": 50,
   "metadata": {},
   "outputs": [],
   "source": [
    "def get_geocode_info_hawker(row):\n",
    "    \"\"\"\n",
    "    Constructs a full address from the row and uses OneMap API to retrieve\n",
    "    postal code and coordinates.\n",
    "    \"\"\"\n",
    "    address = row['address']\n",
    "    \n",
    "    # Replace spaces with '+' for URL encoding\n",
    "    full_address_encoded = address.replace(\" \", \"+\")\n",
    "    # print(full_address_encoded)\n",
    "    results = collect_results(full_address_encoded)\n",
    "    if results:\n",
    "        # Choose the first result (assumed best match)\n",
    "        res = results[0]\n",
    "        # Extract postal code and coordinates (keys may be \"POSTAL\", \"X\", \"Y\")\n",
    "        postal_code = res.get(\"POSTAL\", \"\")\n",
    "        longitude = res.get(\"LONGITUDE\", \"\")\n",
    "        latitude = res.get(\"LATITUDE\", \"\")\n",
    "        return pd.Series([postal_code, longitude, latitude])\n",
    "    else:\n",
    "        # No geocoding result found; return empty values.\n",
    "        return pd.Series([\"\", \"\", \"\"])\n"
   ]
  },
  {
   "cell_type": "code",
   "execution_count": 51,
   "metadata": {},
   "outputs": [
    {
     "name": "stderr",
     "output_type": "stream",
     "text": [
      "100%|██████████| 337/337 [22:16<00:00,  3.97s/it]  "
     ]
    },
    {
     "name": "stdout",
     "output_type": "stream",
     "text": [
      "Geocoding complete. Results saved to school_geocoded.csv\n"
     ]
    },
    {
     "name": "stderr",
     "output_type": "stream",
     "text": [
      "\n"
     ]
    }
   ],
   "source": [
    "school_df = pd.read_csv('Generalinformationofschools.csv')\n",
    "school_df[['postal_code', 'longitude', 'latitude']] = school_df.progress_apply(get_geocode_info_hawker, axis=1)\n",
    "school_df.to_csv('school_geocoded.csv', index=False)\n",
    "print(\"Geocoding complete. Results saved to school_geocoded.csv\")"
   ]
  },
  {
   "cell_type": "markdown",
   "metadata": {},
   "source": [
    "# Convert Park json data to csv data \n",
    "kiv for later, too much work right now"
   ]
  },
  {
   "cell_type": "code",
   "execution_count": null,
   "metadata": {},
   "outputs": [
    {
     "name": "stdout",
     "output_type": "stream",
     "text": [
      "Conversion complete. Results saved to park_data.csv\n"
     ]
    }
   ],
   "source": [
    "# Convert Parks.geojson data to csv data\n",
    "import json\n",
    "import csv\n",
    "\n",
    "with open('Parks.geojson') as f:\n",
    "    data = json.load(f)\n",
    "\n",
    "features = data['features']\n",
    "\n",
    "# open a file for writing\n",
    "park_data = open('park_data.csv', 'w')\n",
    "\n",
    "# create the csv writer object\n",
    "csvwriter = csv.writer(park_data)\n",
    "\n",
    "count = 0\n",
    "for feature in features:\n",
    "    if count == 0:\n",
    "        header = feature['properties'].keys()\n",
    "        csvwriter.writerow(header)\n",
    "        count += 1\n",
    "    csvwriter.writerow(feature['properties'].values())\n",
    "\n",
    "park_data.close()\n",
    "print(\"Conversion complete. Results saved to park_data.csv\")"
   ]
  },
  {
   "cell_type": "code",
   "execution_count": 58,
   "metadata": {},
   "outputs": [
    {
     "ename": "ValueError",
     "evalue": "Cannot transform naive geometries.  Please set a crs on the object first.",
     "output_type": "error",
     "traceback": [
      "\u001b[0;31m---------------------------------------------------------------------------\u001b[0m",
      "\u001b[0;31mValueError\u001b[0m                                Traceback (most recent call last)",
      "\u001b[0;32m/var/folders/3t/jm80bksn4ms4dsgz6rg790f00000gn/T/ipykernel_84201/119999756.py\u001b[0m in \u001b[0;36m<module>\u001b[0;34m\u001b[0m\n\u001b[1;32m      6\u001b[0m \u001b[0mdf\u001b[0m \u001b[0;34m=\u001b[0m \u001b[0mpd\u001b[0m\u001b[0;34m.\u001b[0m\u001b[0mread_csv\u001b[0m\u001b[0;34m(\u001b[0m\u001b[0;34m'park_data.csv'\u001b[0m\u001b[0;34m)\u001b[0m\u001b[0;34m\u001b[0m\u001b[0;34m\u001b[0m\u001b[0m\n\u001b[1;32m      7\u001b[0m \u001b[0mgdf\u001b[0m \u001b[0;34m=\u001b[0m \u001b[0mgpd\u001b[0m\u001b[0;34m.\u001b[0m\u001b[0mGeoDataFrame\u001b[0m\u001b[0;34m(\u001b[0m\u001b[0mdf\u001b[0m\u001b[0;34m,\u001b[0m \u001b[0mgeometry\u001b[0m\u001b[0;34m=\u001b[0m\u001b[0mgpd\u001b[0m\u001b[0;34m.\u001b[0m\u001b[0mpoints_from_xy\u001b[0m\u001b[0;34m(\u001b[0m\u001b[0mdf\u001b[0m\u001b[0;34m.\u001b[0m\u001b[0mX\u001b[0m\u001b[0;34m,\u001b[0m \u001b[0mdf\u001b[0m\u001b[0;34m.\u001b[0m\u001b[0mY\u001b[0m\u001b[0;34m)\u001b[0m\u001b[0;34m)\u001b[0m\u001b[0;34m\u001b[0m\u001b[0;34m\u001b[0m\u001b[0m\n\u001b[0;32m----> 8\u001b[0;31m \u001b[0mgdf\u001b[0m \u001b[0;34m=\u001b[0m \u001b[0mgdf\u001b[0m\u001b[0;34m.\u001b[0m\u001b[0mto_crs\u001b[0m\u001b[0;34m(\u001b[0m\u001b[0;34m\"EPSG:4326\"\u001b[0m\u001b[0;34m)\u001b[0m\u001b[0;34m\u001b[0m\u001b[0;34m\u001b[0m\u001b[0m\n\u001b[0m\u001b[1;32m      9\u001b[0m \u001b[0mgdf\u001b[0m\u001b[0;34m[\u001b[0m\u001b[0;34m'longitude'\u001b[0m\u001b[0;34m]\u001b[0m \u001b[0;34m=\u001b[0m \u001b[0mgdf\u001b[0m\u001b[0;34m.\u001b[0m\u001b[0mgeometry\u001b[0m\u001b[0;34m.\u001b[0m\u001b[0mx\u001b[0m\u001b[0;34m\u001b[0m\u001b[0;34m\u001b[0m\u001b[0m\n\u001b[1;32m     10\u001b[0m \u001b[0mgdf\u001b[0m\u001b[0;34m[\u001b[0m\u001b[0;34m'latitude'\u001b[0m\u001b[0;34m]\u001b[0m \u001b[0;34m=\u001b[0m \u001b[0mgdf\u001b[0m\u001b[0;34m.\u001b[0m\u001b[0mgeometry\u001b[0m\u001b[0;34m.\u001b[0m\u001b[0my\u001b[0m\u001b[0;34m\u001b[0m\u001b[0;34m\u001b[0m\u001b[0m\n",
      "\u001b[0;32m~/Library/Python/3.9/lib/python/site-packages/geopandas/geodataframe.py\u001b[0m in \u001b[0;36mto_crs\u001b[0;34m(self, crs, epsg, inplace)\u001b[0m\n\u001b[1;32m   1699\u001b[0m         \u001b[0;32melse\u001b[0m\u001b[0;34m:\u001b[0m\u001b[0;34m\u001b[0m\u001b[0;34m\u001b[0m\u001b[0m\n\u001b[1;32m   1700\u001b[0m             \u001b[0mdf\u001b[0m \u001b[0;34m=\u001b[0m \u001b[0mself\u001b[0m\u001b[0;34m.\u001b[0m\u001b[0mcopy\u001b[0m\u001b[0;34m(\u001b[0m\u001b[0;34m)\u001b[0m\u001b[0;34m\u001b[0m\u001b[0;34m\u001b[0m\u001b[0m\n\u001b[0;32m-> 1701\u001b[0;31m         \u001b[0mgeom\u001b[0m \u001b[0;34m=\u001b[0m \u001b[0mdf\u001b[0m\u001b[0;34m.\u001b[0m\u001b[0mgeometry\u001b[0m\u001b[0;34m.\u001b[0m\u001b[0mto_crs\u001b[0m\u001b[0;34m(\u001b[0m\u001b[0mcrs\u001b[0m\u001b[0;34m=\u001b[0m\u001b[0mcrs\u001b[0m\u001b[0;34m,\u001b[0m \u001b[0mepsg\u001b[0m\u001b[0;34m=\u001b[0m\u001b[0mepsg\u001b[0m\u001b[0;34m)\u001b[0m\u001b[0;34m\u001b[0m\u001b[0;34m\u001b[0m\u001b[0m\n\u001b[0m\u001b[1;32m   1702\u001b[0m         \u001b[0mdf\u001b[0m\u001b[0;34m.\u001b[0m\u001b[0mgeometry\u001b[0m \u001b[0;34m=\u001b[0m \u001b[0mgeom\u001b[0m\u001b[0;34m\u001b[0m\u001b[0;34m\u001b[0m\u001b[0m\n\u001b[1;32m   1703\u001b[0m         \u001b[0;32mif\u001b[0m \u001b[0;32mnot\u001b[0m \u001b[0minplace\u001b[0m\u001b[0;34m:\u001b[0m\u001b[0;34m\u001b[0m\u001b[0;34m\u001b[0m\u001b[0m\n",
      "\u001b[0;32m~/Library/Python/3.9/lib/python/site-packages/geopandas/geoseries.py\u001b[0m in \u001b[0;36mto_crs\u001b[0;34m(self, crs, epsg)\u001b[0m\n\u001b[1;32m   1205\u001b[0m         \"\"\"\n\u001b[1;32m   1206\u001b[0m         return GeoSeries(\n\u001b[0;32m-> 1207\u001b[0;31m             \u001b[0mself\u001b[0m\u001b[0;34m.\u001b[0m\u001b[0mvalues\u001b[0m\u001b[0;34m.\u001b[0m\u001b[0mto_crs\u001b[0m\u001b[0;34m(\u001b[0m\u001b[0mcrs\u001b[0m\u001b[0;34m=\u001b[0m\u001b[0mcrs\u001b[0m\u001b[0;34m,\u001b[0m \u001b[0mepsg\u001b[0m\u001b[0;34m=\u001b[0m\u001b[0mepsg\u001b[0m\u001b[0;34m)\u001b[0m\u001b[0;34m,\u001b[0m \u001b[0mindex\u001b[0m\u001b[0;34m=\u001b[0m\u001b[0mself\u001b[0m\u001b[0;34m.\u001b[0m\u001b[0mindex\u001b[0m\u001b[0;34m,\u001b[0m \u001b[0mname\u001b[0m\u001b[0;34m=\u001b[0m\u001b[0mself\u001b[0m\u001b[0;34m.\u001b[0m\u001b[0mname\u001b[0m\u001b[0;34m\u001b[0m\u001b[0;34m\u001b[0m\u001b[0m\n\u001b[0m\u001b[1;32m   1208\u001b[0m         )\n\u001b[1;32m   1209\u001b[0m \u001b[0;34m\u001b[0m\u001b[0m\n",
      "\u001b[0;32m~/Library/Python/3.9/lib/python/site-packages/geopandas/_compat.py\u001b[0m in \u001b[0;36mwrapper\u001b[0;34m(*args, **kwargs)\u001b[0m\n\u001b[1;32m     88\u001b[0m                 \u001b[0;34mf\"\\nImporting pyproj resulted in: {pyproj_import_error}\"\u001b[0m\u001b[0;34m\u001b[0m\u001b[0;34m\u001b[0m\u001b[0m\n\u001b[1;32m     89\u001b[0m             )\n\u001b[0;32m---> 90\u001b[0;31m         \u001b[0;32mreturn\u001b[0m \u001b[0mfunc\u001b[0m\u001b[0;34m(\u001b[0m\u001b[0;34m*\u001b[0m\u001b[0margs\u001b[0m\u001b[0;34m,\u001b[0m \u001b[0;34m**\u001b[0m\u001b[0mkwargs\u001b[0m\u001b[0;34m)\u001b[0m\u001b[0;34m\u001b[0m\u001b[0;34m\u001b[0m\u001b[0m\n\u001b[0m\u001b[1;32m     91\u001b[0m \u001b[0;34m\u001b[0m\u001b[0m\n\u001b[1;32m     92\u001b[0m     \u001b[0;32mreturn\u001b[0m \u001b[0mwrapper\u001b[0m\u001b[0;34m\u001b[0m\u001b[0;34m\u001b[0m\u001b[0m\n",
      "\u001b[0;32m~/Library/Python/3.9/lib/python/site-packages/geopandas/array.py\u001b[0m in \u001b[0;36mto_crs\u001b[0;34m(self, crs, epsg)\u001b[0m\n\u001b[1;32m   1000\u001b[0m \u001b[0;34m\u001b[0m\u001b[0m\n\u001b[1;32m   1001\u001b[0m         \u001b[0;32mif\u001b[0m \u001b[0mself\u001b[0m\u001b[0;34m.\u001b[0m\u001b[0mcrs\u001b[0m \u001b[0;32mis\u001b[0m \u001b[0;32mNone\u001b[0m\u001b[0;34m:\u001b[0m\u001b[0;34m\u001b[0m\u001b[0;34m\u001b[0m\u001b[0m\n\u001b[0;32m-> 1002\u001b[0;31m             raise ValueError(\n\u001b[0m\u001b[1;32m   1003\u001b[0m                 \u001b[0;34m\"Cannot transform naive geometries.  \"\u001b[0m\u001b[0;34m\u001b[0m\u001b[0;34m\u001b[0m\u001b[0m\n\u001b[1;32m   1004\u001b[0m                 \u001b[0;34m\"Please set a crs on the object first.\"\u001b[0m\u001b[0;34m\u001b[0m\u001b[0;34m\u001b[0m\u001b[0m\n",
      "\u001b[0;31mValueError\u001b[0m: Cannot transform naive geometries.  Please set a crs on the object first."
     ]
    }
   ],
   "source": [
    "# Convert Parks X Y data to long lat data\n",
    "import pandas as pd\n",
    "import geopandas as gpd\n",
    "from shapely.geometry import Point\n",
    "\n",
    "df = pd.read_csv('park_data.csv')\n",
    "gdf = gpd.GeoDataFrame(df, geometry=gpd.points_from_xy(df.X, df.Y))\n",
    "gdf = gdf.to_crs(\"EPSG:4326\")\n",
    "gdf['longitude'] = gdf.geometry.x\n",
    "gdf['latitude'] = gdf.geometry.y\n",
    "gdf.to_csv('park_data_long_lat.csv', index=False)\n",
    "print(\"Conversion complete. Results saved to park_geocoded.csv\")"
   ]
  },
  {
   "cell_type": "markdown",
   "metadata": {},
   "source": [
    "# Combine datasets into a Facilities dataset"
   ]
  },
  {
   "cell_type": "code",
   "execution_count": 66,
   "metadata": {},
   "outputs": [],
   "source": [
    "import pandas as pd\n",
    "\n",
    "# Load each CSV file\n",
    "hawker_df = pd.read_csv(\"hawker_geocoded.csv\")\n",
    "malls_df = pd.read_csv(\"malls_geocoded.csv\")\n",
    "mrt_df = pd.read_csv(\"mrt_geocoded.csv\")\n",
    "schools_df = pd.read_csv(\"school_geocoded.csv\")\n",
    "parks_df = pd.read_csv(\"parks_geocoded.csv\")\n",
    "\n",
    "# Extract relevant columns and add facility_type\n",
    "hawker_df = hawker_df[['name_of_centre', 'longitude', 'latitude']].copy()\n",
    "hawker_df.rename(columns={'name_of_centre': 'facility_name'}, inplace=True)\n",
    "hawker_df['facility_type'] = 'hawker'\n",
    "\n",
    "malls_df = malls_df[['Mall Name', 'LONGITUDE', 'LATITUDE']].copy()\n",
    "malls_df.rename(columns={'Mall Name': 'facility_name', 'LONGITUDE': 'longitude', 'LATITUDE': 'latitude'}, inplace=True)\n",
    "malls_df['facility_type'] = 'mall'\n",
    "\n",
    "mrt_df = mrt_df[['STN_NAME', 'Longitude', 'Latitude']].copy()\n",
    "mrt_df.rename(columns={'STN_NAME': 'facility_name', 'Longitude': 'longitude', 'Latitude': 'latitude'}, inplace=True)\n",
    "mrt_df['facility_type'] = 'mrt'\n",
    "\n",
    "schools_df = schools_df[['school_name', 'longitude', 'latitude']].copy()\n",
    "schools_df.rename(columns={'school_name': 'facility_name'}, inplace=True)\n",
    "schools_df['facility_type'] = 'school'\n",
    "\n",
    "parks_df = parks_df[['NAME', 'longitude', 'latitude']].copy()\n",
    "parks_df.rename(columns={'NAME': 'facility_name'}, inplace=True)\n",
    "parks_df['facility_type'] = 'park'\n",
    "\n",
    "# Combine all dataframes\n",
    "facilities_df = pd.concat([hawker_df, malls_df, mrt_df, schools_df, parks_df], ignore_index=True)\n",
    "\n",
    "# Reorder columns\n",
    "facilities_df = facilities_df[['facility_type', 'facility_name', 'longitude', 'latitude']]\n",
    "\n",
    "# Save to CSV\n",
    "facilities_df.to_csv(\"facilities.csv\", index=False)"
   ]
  },
  {
   "cell_type": "code",
   "execution_count": null,
   "metadata": {},
   "outputs": [],
   "source": []
  }
 ],
 "metadata": {
  "kernelspec": {
   "display_name": "Python 3",
   "language": "python",
   "name": "python3"
  },
  "language_info": {
   "codemirror_mode": {
    "name": "ipython",
    "version": 3
   },
   "file_extension": ".py",
   "mimetype": "text/x-python",
   "name": "python",
   "nbconvert_exporter": "python",
   "pygments_lexer": "ipython3",
   "version": "3.9.6"
  }
 },
 "nbformat": 4,
 "nbformat_minor": 2
}
