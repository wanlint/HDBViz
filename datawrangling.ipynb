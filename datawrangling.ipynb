{
 "cells": [
  {
   "cell_type": "markdown",
   "metadata": {},
   "source": [
    "# Geocoding HDB Property Info Dataset using OneMap API"
   ]
  },
  {
   "cell_type": "markdown",
   "metadata": {},
   "source": [
    "## Step 1: Install Required Libraries\n",
    "Install the necessary Python packages. Uncomment and run if not installed."
   ]
  },
  {
   "cell_type": "code",
   "execution_count": 3,
   "metadata": {},
   "outputs": [
    {
     "name": "stdout",
     "output_type": "stream",
     "text": [
      "Defaulting to user installation because normal site-packages is not writeable\n",
      "Requirement already satisfied: pandas in /Users/wanlin/Library/Python/3.9/lib/python/site-packages (1.4.3)\n",
      "Requirement already satisfied: requests in /Users/wanlin/Library/Python/3.9/lib/python/site-packages (2.28.2)\n",
      "Requirement already satisfied: tqdm in /Users/wanlin/Library/Python/3.9/lib/python/site-packages (4.66.1)\n",
      "Requirement already satisfied: python-dateutil>=2.8.1 in /Users/wanlin/Library/Python/3.9/lib/python/site-packages (from pandas) (2.8.2)\n",
      "Requirement already satisfied: pytz>=2020.1 in /Users/wanlin/Library/Python/3.9/lib/python/site-packages (from pandas) (2023.3.post1)\n",
      "Requirement already satisfied: numpy>=1.18.5 in /Users/wanlin/Library/Python/3.9/lib/python/site-packages (from pandas) (1.26.1)\n",
      "Requirement already satisfied: charset-normalizer<4,>=2 in /Users/wanlin/Library/Python/3.9/lib/python/site-packages (from requests) (3.1.0)\n",
      "Requirement already satisfied: idna<4,>=2.5 in /Users/wanlin/Library/Python/3.9/lib/python/site-packages (from requests) (3.4)\n",
      "Requirement already satisfied: urllib3<1.27,>=1.21.1 in /Users/wanlin/Library/Python/3.9/lib/python/site-packages (from requests) (1.26.15)\n",
      "Requirement already satisfied: certifi>=2017.4.17 in /Users/wanlin/Library/Python/3.9/lib/python/site-packages (from requests) (2022.12.7)\n",
      "Requirement already satisfied: six>=1.5 in /Users/wanlin/Library/Python/3.9/lib/python/site-packages (from python-dateutil>=2.8.1->pandas) (1.16.0)\n",
      "\u001b[33mWARNING: There was an error checking the latest version of pip.\u001b[0m\u001b[33m\n",
      "\u001b[0m"
     ]
    }
   ],
   "source": [
    "!pip install pandas requests tqdm"
   ]
  },
  {
   "cell_type": "markdown",
   "metadata": {},
   "source": [
    "## Step 2: Import Libraries"
   ]
  },
  {
   "cell_type": "code",
   "execution_count": 13,
   "metadata": {},
   "outputs": [],
   "source": [
    "import pandas as pd\n",
    "import requests\n",
    "from tqdm import tqdm\n",
    "import time\n",
    "from requests.adapters import HTTPAdapter\n",
    "from urllib3.util.retry import Retry"
   ]
  },
  {
   "cell_type": "markdown",
   "metadata": {},
   "source": [
    "## Step 3: Define Geocoding Function"
   ]
  },
  {
   "cell_type": "code",
   "execution_count": 12,
   "metadata": {},
   "outputs": [],
   "source": [
    "ONEMAP_API_URL = \"https://developers.onemap.sg/commonapi/search\"\n",
    "\n",
    "def requests_retry_session(retries=3, backoff_factor=0.5, status_forcelist=(500, 502, 504)):\n",
    "    \"\"\"Create a session with retry strategy for HTTP requests.\"\"\"\n",
    "    session = requests.Session()\n",
    "    retry = Retry(\n",
    "        total=retries,\n",
    "        read=retries,\n",
    "        connect=retries,\n",
    "        backoff_factor=backoff_factor,\n",
    "        status_forcelist=status_forcelist,\n",
    "        raise_on_status=False,\n",
    "    )\n",
    "    adapter = HTTPAdapter(max_retries=retry)\n",
    "    session.mount('http://', adapter)\n",
    "    session.mount('https://', adapter)\n",
    "    return session\n",
    "\n",
    "\n",
    "def get_geocode(block, street_name):\n",
    "    \"\"\"Fetch postal code, latitude, and longitude from OneMap API given block and street with retries.\"\"\"\n",
    "    address = f\"{block} {street_name} Singapore\"\n",
    "    params = {\n",
    "        'searchVal': address,\n",
    "        'returnGeom': 'Y',\n",
    "        'getAddrDetails': 'Y',\n",
    "        'pageNum': 1\n",
    "    }\n",
    "    try:\n",
    "        session = requests_retry_session()\n",
    "        response = session.get(ONEMAP_API_URL, params=params, timeout=5)\n",
    "        if response.status_code == 200:\n",
    "            results = response.json().get('results', [])\n",
    "            if results:\n",
    "                result = results[0]\n",
    "                return result.get('POSTAL', ''), result.get('LATITUDE', ''), result.get('LONGITUDE', '')\n",
    "        return '', '', ''\n",
    "    except Exception as e:\n",
    "        print(f\"Error fetching geocode for {address}: {e}\")\n",
    "        return '', '', ''\n"
   ]
  },
  {
   "cell_type": "code",
   "execution_count": null,
   "metadata": {},
   "outputs": [],
   "source": [
    "ONEMAP_API_URL = \"https://developers.onemap.sg/commonapi/search\"\n",
    "\n",
    "def get_geocode(block, street_name):\n",
    "    \"\"\"Fetch postal code, latitude, and longitude from OneMap API given block and street.\"\"\"\n",
    "    address = f\"{block} {street_name} Singapore\"\n",
    "    params = {\n",
    "        'searchVal': address,\n",
    "        'returnGeom': 'Y',\n",
    "        'getAddrDetails': 'Y',\n",
    "        'pageNum': 1\n",
    "    }\n",
    "    try:\n",
    "        response = requests.get(ONEMAP_API_URL, params=params)\n",
    "        if response.status_code == 200:\n",
    "            results = response.json().get('results', [])\n",
    "            if results:\n",
    "                result = results[0]\n",
    "                return result.get('POSTAL', ''), result.get('LATITUDE', ''), result.get('LONGITUDE', '')\n",
    "        return '', '', ''\n",
    "    except Exception as e:\n",
    "        print(f\"Error fetching geocode for {address}: {e}\")\n",
    "        return '', '', ''\n"
   ]
  },
  {
   "cell_type": "markdown",
   "metadata": {},
   "source": [
    "## Step 4: Main Function to Process CSV"
   ]
  },
  {
   "cell_type": "code",
   "execution_count": 14,
   "metadata": {},
   "outputs": [],
   "source": [
    "# def process_csv(input_csv, output_csv):\n",
    "#     \"\"\"Reads the input CSV, appends geocode data, and writes to output CSV.\"\"\"\n",
    "#     df = pd.read_csv(input_csv)\n",
    "    \n",
    "#     # Create empty columns for postal code, latitude, longitude\n",
    "#     df['postal_code'] = ''\n",
    "#     df['latitude'] = ''\n",
    "#     df['longitude'] = ''\n",
    "\n",
    "#     # Process each row with progress bar\n",
    "#     for idx, row in tqdm(df.iterrows(), total=len(df), desc=\"Fetching Geocodes\"):\n",
    "#         postal, lat, lon = get_geocode(row['block'], row['street_name'])\n",
    "#         df.at[idx, 'postal_code'] = postal\n",
    "#         df.at[idx, 'latitude'] = lat\n",
    "#         df.at[idx, 'longitude'] = lon\n",
    "#         time.sleep(0.5)  # Prevent rate-limiting\n",
    "\n",
    "#     # Save updated CSV\n",
    "#     df.to_csv(output_csv, index=False)\n",
    "#     print(f\"Updated CSV saved as {output_csv}\")# Geocoding HDB Property Info Dataset using OneMap API (with Retry Mechanism)\n",
    "\n",
    "def process_csv(input_csv, output_csv):\n",
    "    \"\"\"Reads the input CSV, appends geocode data, and writes to output CSV.\"\"\"\n",
    "    df = pd.read_csv(input_csv)\n",
    "\n",
    "    # Create empty columns for postal code, latitude, longitude\n",
    "    df['postal_code'] = ''\n",
    "    df['latitude'] = ''\n",
    "    df['longitude'] = ''\n",
    "\n",
    "    # Process each row with progress bar\n",
    "    failed_addresses = []\n",
    "    for idx, row in tqdm(df.iterrows(), total=len(df), desc=\"Fetching Geocodes\"):\n",
    "        postal, lat, lon = get_geocode(row['block'], row['street_name'])\n",
    "        df.at[idx, 'postal_code'] = postal\n",
    "        df.at[idx, 'latitude'] = lat\n",
    "        df.at[idx, 'longitude'] = lon\n",
    "        \n",
    "        if not postal:\n",
    "            failed_addresses.append(f\"{row['block']} {row['street_name']}\")\n",
    "\n",
    "        time.sleep(0.5)  # Prevent rate-limiting\n",
    "\n",
    "    # Save updated CSV\n",
    "    df.to_csv(output_csv, index=False)\n",
    "    print(f\"Updated CSV saved as {output_csv}\")\n",
    "\n",
    "    if failed_addresses:\n",
    "        print(\"The following addresses failed to fetch:\")\n",
    "        for addr in failed_addresses:\n",
    "            print(addr)\n"
   ]
  },
  {
   "cell_type": "code",
   "execution_count": 20,
   "metadata": {},
   "outputs": [
    {
     "name": "stderr",
     "output_type": "stream",
     "text": [
      "/Users/wanlin/Library/Python/3.9/lib/python/site-packages/tqdm/auto.py:21: TqdmWarning: IProgress not found. Please update jupyter and ipywidgets. See https://ipywidgets.readthedocs.io/en/stable/user_install.html\n",
      "  from .autonotebook import tqdm as notebook_tqdm\n"
     ]
    }
   ],
   "source": [
    "#Import necessary libraries\n",
    "import requests\n",
    "import time\n",
    "import pandas as pd\n",
    "from tqdm.auto import tqdm\n",
    "tqdm.pandas()"
   ]
  },
  {
   "cell_type": "code",
   "execution_count": 17,
   "metadata": {},
   "outputs": [],
   "source": [
    "#Define functions for API calling and geocoding\n",
    "def call_loop(url_given, attempts=3, delay=5):\n",
    "    \"\"\"\n",
    "    Call the given URL with retries if response status is not 200.\n",
    "    \"\"\"\n",
    "    response_status_code = 1\n",
    "    for _ in range(attempts + 1):\n",
    "        if response_status_code != 200:\n",
    "            if response_status_code != 1:\n",
    "                time.sleep(delay)\n",
    "            response = requests.get(url_given)\n",
    "            response_status_code = response.status_code\n",
    "        else:\n",
    "            return response\n",
    "    print(f\"For URL: {url_given}\")\n",
    "    print(f\"Response Status Code: {response_status_code}\")\n",
    "    return None\n",
    "\n",
    "def collect_results(full_add, attempts=3, delay=5):\n",
    "    \"\"\"\n",
    "    Collects all the result from OneMap API into a list of dictionaries.\n",
    "    Uses the full address (with spaces replaced by '+') to form the URL.\n",
    "    \"\"\"\n",
    "    url_p1 = \"https://www.onemap.gov.sg/api/common/elastic/search?searchVal=+\"\n",
    "    url_p2 = \"+&returnGeom=Y&getAddrDetails=Y\"\n",
    "    final_url = url_p1 + full_add + url_p2\n",
    "    \n",
    "    results = []\n",
    "    response = call_loop(final_url, attempts, delay)\n",
    "    if response is not None:\n",
    "        # Using response.json() is safer than eval(response.text)\n",
    "        feedback = response.json()\n",
    "        found = feedback.get('found', 0)\n",
    "        totalpages = feedback.get('totalNumPages', 1)\n",
    "    else:\n",
    "        print(f\"Exited collect_results function as there is no response for address: {full_add}\")\n",
    "        return results  # Returns empty list\n",
    "    \n",
    "    if found == 0:\n",
    "        return results  # No results found\n",
    "    else:\n",
    "        results = feedback.get('results', [])\n",
    "        # If there are multiple pages, get additional results\n",
    "        if found > 1 and totalpages > 1:\n",
    "            for x in range(totalpages - 1):\n",
    "                page_num = x + 2\n",
    "                url_with_page = final_url + f\"&pageNum={page_num}\"\n",
    "                temp_response = call_loop(url_with_page, attempts, delay)\n",
    "                if temp_response is not None:\n",
    "                    temp_feedback = temp_response.json()\n",
    "                    temp_results = temp_feedback.get('results', [])\n",
    "                    results.extend(temp_results)\n",
    "    return results\n",
    "\n",
    "#Read the input CSV and define a function to get geocoding info per row\n",
    "df = pd.read_csv('raw.csv')\n",
    "\n",
    "def get_geocode_info(row):\n",
    "    \"\"\"\n",
    "    Constructs a full address from the row and uses OneMap API to retrieve\n",
    "    postal code and coordinates.\n",
    "    \"\"\"\n",
    "    # Construct the full address using block and street_name.\n",
    "    # (You can modify this if you need to include town or other parts.)\n",
    "    full_address = f\"{row['block']} {row['street_name']}\"\n",
    "    # Replace spaces with '+' for URL encoding\n",
    "    full_address_encoded = full_address.replace(\" \", \"+\")\n",
    "    \n",
    "    results = collect_results(full_address_encoded)\n",
    "    if results:\n",
    "        # Choose the first result (assumed best match)\n",
    "        res = results[0]\n",
    "        # Extract postal code and coordinates (keys may be \"POSTAL\", \"X\", \"Y\")\n",
    "        postal_code = res.get(\"POSTAL\", \"\")\n",
    "        longitude = res.get(\"X\", \"\")\n",
    "        latitude = res.get(\"Y\", \"\")\n",
    "        return pd.Series([postal_code, longitude, latitude])\n",
    "    else:\n",
    "        # No geocoding result found; return empty values.\n",
    "        return pd.Series([\"\", \"\", \"\"])"
   ]
  },
  {
   "cell_type": "code",
   "execution_count": 21,
   "metadata": {},
   "outputs": [
    {
     "name": "stderr",
     "output_type": "stream",
     "text": [
      "100%|██████████| 199327/199327 [6:54:31<00:00,  8.01it/s]   \n"
     ]
    },
    {
     "name": "stdout",
     "output_type": "stream",
     "text": [
      "Geocoding complete. Results saved to geocoded.csv\n"
     ]
    }
   ],
   "source": [
    "# Apply the geocoding function to each row and save the results\n",
    "df[['postal_code', 'longitude', 'latitude']] = df.progress_apply(get_geocode_info, axis=1)\n",
    "df.to_csv('geocoded.csv', index=False)\n",
    "print(\"Geocoding complete. Results saved to geocoded.csv\")\n"
   ]
  },
  {
   "cell_type": "code",
   "execution_count": null,
   "metadata": {},
   "outputs": [],
   "source": []
  }
 ],
 "metadata": {
  "kernelspec": {
   "display_name": "Python 3",
   "language": "python",
   "name": "python3"
  },
  "language_info": {
   "codemirror_mode": {
    "name": "ipython",
    "version": 3
   },
   "file_extension": ".py",
   "mimetype": "text/x-python",
   "name": "python",
   "nbconvert_exporter": "python",
   "pygments_lexer": "ipython3",
   "version": "3.9.6"
  }
 },
 "nbformat": 4,
 "nbformat_minor": 2
}
