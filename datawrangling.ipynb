{
 "cells": [
  {
   "cell_type": "markdown",
   "metadata": {},
   "source": [
    "# Geocoding HDB Property Info Dataset using OneMap API"
   ]
  },
  {
   "cell_type": "code",
   "execution_count": 25,
   "metadata": {},
   "outputs": [],
   "source": [
    "# !pip install requests time pandas tqdm"
   ]
  },
  {
   "cell_type": "code",
   "execution_count": 26,
   "metadata": {},
   "outputs": [],
   "source": [
    "#Import necessary libraries\n",
    "import requests\n",
    "import time\n",
    "import pandas as pd\n",
    "from tqdm.auto import tqdm\n",
    "tqdm.pandas()"
   ]
  },
  {
   "cell_type": "code",
   "execution_count": 27,
   "metadata": {},
   "outputs": [],
   "source": [
    "#Define functions for API calling and geocoding\n",
    "def call_loop(url_given, attempts=3, delay=5):\n",
    "    \"\"\"\n",
    "    Call the given URL with retries if response status is not 200.\n",
    "    \"\"\"\n",
    "    response_status_code = 1\n",
    "    for _ in range(attempts + 1):\n",
    "        if response_status_code != 200:\n",
    "            if response_status_code != 1:\n",
    "                time.sleep(delay)\n",
    "            response = requests.get(url_given)\n",
    "            response_status_code = response.status_code\n",
    "        else:\n",
    "            return response\n",
    "    print(f\"For URL: {url_given}\")\n",
    "    print(f\"Response Status Code: {response_status_code}\")\n",
    "    return None\n",
    "\n",
    "def collect_results(full_add, attempts=3, delay=5):\n",
    "    \"\"\"\n",
    "    Collects all the result from OneMap API into a list of dictionaries.\n",
    "    Uses the full address (with spaces replaced by '+') to form the URL.\n",
    "    \"\"\"\n",
    "    url_p1 = \"https://www.onemap.gov.sg/api/common/elastic/search?searchVal=+\"\n",
    "    url_p2 = \"+&returnGeom=Y&getAddrDetails=Y\"\n",
    "    final_url = url_p1 + full_add + url_p2\n",
    "    \n",
    "    results = []\n",
    "    response = call_loop(final_url, attempts, delay)\n",
    "    if response is not None:\n",
    "        # Using response.json() is safer than eval(response.text)\n",
    "        feedback = response.json()\n",
    "        found = feedback.get('found', 0)\n",
    "        totalpages = feedback.get('totalNumPages', 1)\n",
    "    else:\n",
    "        print(f\"Exited collect_results function as there is no response for address: {full_add}\")\n",
    "        return results  # Returns empty list\n",
    "    \n",
    "    if found == 0:\n",
    "        return results  # No results found\n",
    "    else:\n",
    "        results = feedback.get('results', [])\n",
    "        # If there are multiple pages, get additional results\n",
    "        if found > 1 and totalpages > 1:\n",
    "            for x in range(totalpages - 1):\n",
    "                page_num = x + 2\n",
    "                url_with_page = final_url + f\"&pageNum={page_num}\"\n",
    "                temp_response = call_loop(url_with_page, attempts, delay)\n",
    "                if temp_response is not None:\n",
    "                    temp_feedback = temp_response.json()\n",
    "                    temp_results = temp_feedback.get('results', [])\n",
    "                    results.extend(temp_results)\n",
    "    return results\n",
    "\n",
    "#Read the input CSV and define a function to get geocoding info per row\n",
    "df = pd.read_csv('raw.csv')\n",
    "\n",
    "def get_geocode_info(row):\n",
    "    \"\"\"\n",
    "    Constructs a full address from the row and uses OneMap API to retrieve\n",
    "    postal code and coordinates.\n",
    "    \"\"\"\n",
    "    # Construct the full address using block and street_name.\n",
    "    # (You can modify this if you need to include town or other parts.)\n",
    "    full_address = f\"{row['block']} {row['street_name']}\"\n",
    "    # Replace spaces with '+' for URL encoding\n",
    "    full_address_encoded = full_address.replace(\" \", \"+\")\n",
    "    \n",
    "    results = collect_results(full_address_encoded)\n",
    "    if results:\n",
    "        # Choose the first result (assumed best match)\n",
    "        res = results[0]\n",
    "        # Extract postal code and coordinates (keys may be \"POSTAL\", \"X\", \"Y\")\n",
    "        postal_code = res.get(\"POSTAL\", \"\")\n",
    "        longitude = res.get(\"LONGITUDE\", \"\")\n",
    "        latitude = res.get(\"LATITUDE\", \"\")\n",
    "        return pd.Series([postal_code, longitude, latitude])\n",
    "    else:\n",
    "        # No geocoding result found; return empty values.\n",
    "        return pd.Series([\"\", \"\", \"\"])"
   ]
  },
  {
   "cell_type": "code",
   "execution_count": null,
   "metadata": {},
   "outputs": [
    {
     "name": "stderr",
     "output_type": "stream",
     "text": [
      "100%|██████████| 199327/199327 [6:54:42<00:00,  8.01it/s]    \n"
     ]
    },
    {
     "name": "stdout",
     "output_type": "stream",
     "text": [
      "Geocoding complete. Results saved to geocoded.csv\n"
     ]
    }
   ],
   "source": [
    "# Apply the geocoding function to each row and save the results\n",
    "df[['postal_code', 'longitude', 'latitude']] = df.progress_apply(get_geocode_info, axis=1)\n",
    "df.to_csv('geocoded.csv', index=False)\n",
    "print(\"Geocoding complete. Results saved to geocoded.csv\")\n"
   ]
  },
  {
   "cell_type": "code",
   "execution_count": null,
   "metadata": {},
   "outputs": [],
   "source": []
  }
 ],
 "metadata": {
  "kernelspec": {
   "display_name": "Python 3",
   "language": "python",
   "name": "python3"
  },
  "language_info": {
   "codemirror_mode": {
    "name": "ipython",
    "version": 3
   },
   "file_extension": ".py",
   "mimetype": "text/x-python",
   "name": "python",
   "nbconvert_exporter": "python",
   "pygments_lexer": "ipython3",
   "version": "3.9.6"
  }
 },
 "nbformat": 4,
 "nbformat_minor": 2
}
